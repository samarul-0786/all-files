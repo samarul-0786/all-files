{
 "cells": [
  {
   "cell_type": "code",
   "execution_count": 3,
   "id": "0913fc97",
   "metadata": {},
   "outputs": [],
   "source": [
    "import numpy as np"
   ]
  },
  {
   "cell_type": "code",
   "execution_count": 4,
   "id": "f9550058",
   "metadata": {},
   "outputs": [],
   "source": [
    "a=np.array([1,2,3])"
   ]
  },
  {
   "cell_type": "code",
   "execution_count": 5,
   "id": "0bbb1c17",
   "metadata": {},
   "outputs": [
    {
     "name": "stdout",
     "output_type": "stream",
     "text": [
      "[1 2 3]\n"
     ]
    }
   ],
   "source": [
    "print(a)"
   ]
  },
  {
   "cell_type": "code",
   "execution_count": 10,
   "id": "1d4b5149",
   "metadata": {},
   "outputs": [],
   "source": [
    "sam=np.array([(3,4,5),(8,7,6)])"
   ]
  },
  {
   "cell_type": "code",
   "execution_count": 8,
   "id": "6b9ba8d3",
   "metadata": {},
   "outputs": [
    {
     "name": "stdout",
     "output_type": "stream",
     "text": [
      "[[3 4 5]\n",
      " [8 7 6]]\n"
     ]
    }
   ],
   "source": [
    "print(sam)"
   ]
  },
  {
   "cell_type": "code",
   "execution_count": 10,
   "id": "a0cf23ec",
   "metadata": {},
   "outputs": [],
   "source": [
    "sam2=np.transpose(sam)"
   ]
  },
  {
   "cell_type": "code",
   "execution_count": 11,
   "id": "64c9b5b6",
   "metadata": {},
   "outputs": [
    {
     "name": "stdout",
     "output_type": "stream",
     "text": [
      "[[3 8]\n",
      " [4 7]\n",
      " [5 6]]\n"
     ]
    }
   ],
   "source": [
    "print(sam2)"
   ]
  },
  {
   "cell_type": "code",
   "execution_count": 12,
   "id": "2a427540",
   "metadata": {},
   "outputs": [
    {
     "data": {
      "text/plain": [
       "array([3, 8, 4, 7, 5, 6])"
      ]
     },
     "execution_count": 12,
     "metadata": {},
     "output_type": "execute_result"
    }
   ],
   "source": [
    "sam2.ravel()"
   ]
  },
  {
   "cell_type": "code",
   "execution_count": 13,
   "id": "08acb8c3",
   "metadata": {},
   "outputs": [
    {
     "data": {
      "text/plain": [
       "array([[3, 8],\n",
       "       [4, 7],\n",
       "       [5, 6]])"
      ]
     },
     "execution_count": 13,
     "metadata": {},
     "output_type": "execute_result"
    }
   ],
   "source": [
    "sam2.reshape(3,2)"
   ]
  },
  {
   "cell_type": "code",
   "execution_count": 7,
   "id": "efa38631",
   "metadata": {},
   "outputs": [],
   "source": [
    "sam2=np.zeros((3,2))"
   ]
  },
  {
   "cell_type": "code",
   "execution_count": 8,
   "id": "c9dd43e4",
   "metadata": {},
   "outputs": [
    {
     "name": "stdout",
     "output_type": "stream",
     "text": [
      "[[0. 0.]\n",
      " [0. 0.]\n",
      " [0. 0.]]\n"
     ]
    }
   ],
   "source": [
    "print(sam2)"
   ]
  },
  {
   "cell_type": "code",
   "execution_count": 11,
   "id": "1e453655",
   "metadata": {},
   "outputs": [
    {
     "data": {
      "text/plain": [
       "array([0., 0., 0., 0., 0., 0., 3., 4., 5., 8., 7., 6.])"
      ]
     },
     "execution_count": 11,
     "metadata": {},
     "output_type": "execute_result"
    }
   ],
   "source": [
    "np.append(sam2,sam)"
   ]
  },
  {
   "cell_type": "code",
   "execution_count": 12,
   "id": "4c299122",
   "metadata": {},
   "outputs": [
    {
     "data": {
      "text/plain": [
       "array([0., 0., 0., 6., 0., 0., 0.])"
      ]
     },
     "execution_count": 12,
     "metadata": {},
     "output_type": "execute_result"
    }
   ],
   "source": [
    "np.insert(sam2,3,6)"
   ]
  },
  {
   "cell_type": "code",
   "execution_count": 13,
   "id": "d06f11f8",
   "metadata": {},
   "outputs": [
    {
     "data": {
      "text/plain": [
       "array([0., 0., 0., 0., 0.])"
      ]
     },
     "execution_count": 13,
     "metadata": {},
     "output_type": "execute_result"
    }
   ],
   "source": [
    "np.delete(sam2,3)"
   ]
  },
  {
   "cell_type": "code",
   "execution_count": 14,
   "id": "f00d2acd",
   "metadata": {},
   "outputs": [
    {
     "data": {
      "text/plain": [
       "array([[0.17268706, 0.82729379, 0.79936047],\n",
       "       [0.97854873, 0.52980623, 0.45873452],\n",
       "       [0.23758015, 0.19199598, 0.71237849]])"
      ]
     },
     "execution_count": 14,
     "metadata": {},
     "output_type": "execute_result"
    }
   ],
   "source": [
    "np.random.random((3,3))"
   ]
  },
  {
   "cell_type": "code",
   "execution_count": null,
   "id": "fec0efc0",
   "metadata": {},
   "outputs": [],
   "source": []
  }
 ],
 "metadata": {
  "kernelspec": {
   "display_name": "Python 3 (ipykernel)",
   "language": "python",
   "name": "python3"
  },
  "language_info": {
   "codemirror_mode": {
    "name": "ipython",
    "version": 3
   },
   "file_extension": ".py",
   "mimetype": "text/x-python",
   "name": "python",
   "nbconvert_exporter": "python",
   "pygments_lexer": "ipython3",
   "version": "3.10.8"
  }
 },
 "nbformat": 4,
 "nbformat_minor": 5
}

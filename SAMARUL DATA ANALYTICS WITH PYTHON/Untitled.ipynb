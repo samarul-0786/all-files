{
 "cells": [
  {
   "cell_type": "code",
   "execution_count": null,
   "id": "972ee2bb",
   "metadata": {},
   "outputs": [],
   "source": [
    "sam=1"
   ]
  },
  {
   "cell_type": "code",
   "execution_count": null,
   "id": "7243b3be",
   "metadata": {},
   "outputs": [],
   "source": [
    "sam2=3"
   ]
  },
  {
   "cell_type": "code",
   "execution_count": 2,
   "id": "444bfad5",
   "metadata": {},
   "outputs": [
    {
     "ename": "SyntaxError",
     "evalue": "invalid decimal literal (806185501.py, line 1)",
     "output_type": "error",
     "traceback": [
      "\u001b[1;36m  Cell \u001b[1;32mIn [2], line 1\u001b[1;36m\u001b[0m\n\u001b[1;33m    3sam=4\u001b[0m\n\u001b[1;37m    ^\u001b[0m\n\u001b[1;31mSyntaxError\u001b[0m\u001b[1;31m:\u001b[0m invalid decimal literal\n"
     ]
    }
   ],
   "source": [
    "3sam=4"
   ]
  },
  {
   "cell_type": "code",
   "execution_count": 5,
   "id": "af01273d",
   "metadata": {},
   "outputs": [],
   "source": [
    "sam2={2:\"computer science\",3:\"MBA\",4:57}"
   ]
  },
  {
   "cell_type": "code",
   "execution_count": 6,
   "id": "41812668",
   "metadata": {},
   "outputs": [
    {
     "data": {
      "text/plain": [
       "dict"
      ]
     },
     "execution_count": 6,
     "metadata": {},
     "output_type": "execute_result"
    }
   ],
   "source": [
    "type(sam2)"
   ]
  },
  {
   "cell_type": "code",
   "execution_count": 7,
   "id": "0f55d001",
   "metadata": {},
   "outputs": [
    {
     "data": {
      "text/plain": [
       "57"
      ]
     },
     "execution_count": 7,
     "metadata": {},
     "output_type": "execute_result"
    }
   ],
   "source": [
    "sam2[4]"
   ]
  },
  {
   "cell_type": "code",
   "execution_count": 8,
   "id": "47544de9",
   "metadata": {},
   "outputs": [
    {
     "data": {
      "text/plain": [
       "'MBA'"
      ]
     },
     "execution_count": 8,
     "metadata": {},
     "output_type": "execute_result"
    }
   ],
   "source": [
    "sam2[3]"
   ]
  },
  {
   "cell_type": "code",
   "execution_count": 9,
   "id": "bae76ec2",
   "metadata": {},
   "outputs": [
    {
     "data": {
      "text/plain": [
       "'computer science'"
      ]
     },
     "execution_count": 9,
     "metadata": {},
     "output_type": "execute_result"
    }
   ],
   "source": [
    "sam2[2]"
   ]
  },
  {
   "cell_type": "code",
   "execution_count": 10,
   "id": "8c04fe02",
   "metadata": {},
   "outputs": [],
   "source": [
    "sam2[4]=\"PMIST\""
   ]
  },
  {
   "cell_type": "code",
   "execution_count": 11,
   "id": "8cfb55b9",
   "metadata": {},
   "outputs": [
    {
     "data": {
      "text/plain": [
       "{2: 'computer science', 3: 'MBA', 4: 'PMIST'}"
      ]
     },
     "execution_count": 11,
     "metadata": {},
     "output_type": "execute_result"
    }
   ],
   "source": [
    "sam2"
   ]
  },
  {
   "cell_type": "code",
   "execution_count": 14,
   "id": "beb38f4a",
   "metadata": {},
   "outputs": [],
   "source": [
    "sam3={\"car\",\"van\",\"bike\",15,25,35}"
   ]
  },
  {
   "cell_type": "code",
   "execution_count": 15,
   "id": "0bd395ae",
   "metadata": {},
   "outputs": [
    {
     "data": {
      "text/plain": [
       "set"
      ]
     },
     "execution_count": 15,
     "metadata": {},
     "output_type": "execute_result"
    }
   ],
   "source": [
    "type(sam3)"
   ]
  },
  {
   "cell_type": "code",
   "execution_count": 16,
   "id": "8e0bafc0",
   "metadata": {},
   "outputs": [
    {
     "data": {
      "text/plain": [
       "{15, 25, 35, 'bike', 'car', 'van'}"
      ]
     },
     "execution_count": 16,
     "metadata": {},
     "output_type": "execute_result"
    }
   ],
   "source": [
    "sam3"
   ]
  },
  {
   "cell_type": "code",
   "execution_count": 18,
   "id": "b0ba603e",
   "metadata": {},
   "outputs": [],
   "source": [
    "sam3.add('bus')\n"
   ]
  },
  {
   "cell_type": "code",
   "execution_count": null,
   "id": "3f10c654",
   "metadata": {},
   "outputs": [],
   "source": [
    "timeout:input(\"enter time\")\n",
    "    \n",
    "    notification={1:\"this is morning\",2:\"this is afternoon\",3:\"this is evening\"}\n",
    "    if int(timenow)<12:\n",
    "        print(notification[1])\n",
    "        elif int(timenow)==12:\n",
    "        print(notification[2])\n",
    "        elif int(timenow)>12:\n",
    "            print(notification[3])"
   ]
  },
  {
   "cell_type": "code",
   "execution_count": 1,
   "id": "0b85101a",
   "metadata": {},
   "outputs": [
    {
     "name": "stderr",
     "output_type": "stream",
     "text": [
      "\n",
      "KeyboardInterrupt\n",
      "\n"
     ]
    }
   ],
   "source": [
    "timenow=input(\"enter time\")\n",
    "notif={1:\"wake\",2:\"this is afternoon\",3:\"this is even\"}\n",
    "if int(timenow)<6:\n",
    "    print(f\"time is up{notif[1]}\")\n",
    "elif int(timenow)==12:\n",
    "    print(notif[2])\n",
    "elif int(timenow)>12:\n",
    "    print(notif[3])"
   ]
  },
  {
   "cell_type": "code",
   "execution_count": 5,
   "id": "1c273d2c",
   "metadata": {},
   "outputs": [
    {
     "name": "stdout",
     "output_type": "stream",
     "text": [
      "your total fare for 1 km is 2\n",
      "your total fare for 1 km is 2\n",
      "your total fare for3km is6\n",
      "your total fare for4km is8\n",
      "your total fare for5km is10\n",
      "your total fare for6km is12\n",
      "your total fare for7km is14\n",
      "your total fare for8km is16\n",
      "your total fare for9km is18\n",
      "your total fare for10km is20\n",
      "your total fare for11km is22\n",
      "your total fare for12km is24\n",
      "your total fare for13km is26\n",
      "your total fare for14km is28\n",
      "your total fare for15km is30\n",
      "your total fare for16km is32\n",
      "your total fare for17km is34\n",
      "your total fare for18km is36\n",
      "your total fare for19km is38\n",
      "your total fare for20km is40\n",
      "your total fare for21km is42\n",
      "your total fare for22km is44\n",
      "your total fare for23km is46\n",
      "your total fare for24km is48\n",
      "your total fare for25km is50\n"
     ]
    }
   ],
   "source": [
    "fare_per_km=2\n",
    "for dist in range(1,26):\n",
    "    if dist>2:\n",
    "        total_fare=dist*2\n",
    "        print(f\"your total fare for{dist}km is{total_fare}\")\n",
    "        \n",
    "    else:\n",
    "        print(f\"your total fare for 1 km is 2\")"
   ]
  },
  {
   "cell_type": "code",
   "execution_count": 3,
   "id": "9d4954a5",
   "metadata": {},
   "outputs": [
    {
     "name": "stdout",
     "output_type": "stream",
     "text": [
      "enter total seat capacity:20\n",
      "your journey is not conformed\n",
      "only 1 tickets booked\n",
      "50% of the ticket filled the journey conformed\n",
      "your journey is not conformed\n",
      "only 2 tickets booked\n",
      "50% of the ticket filled the journey conformed\n",
      "your journey is not conformed\n",
      "only 3 tickets booked\n",
      "50% of the ticket filled the journey conformed\n",
      "your journey is not conformed\n",
      "only 4 tickets booked\n",
      "50% of the ticket filled the journey conformed\n",
      "your journey is not conformed\n",
      "only 5 tickets booked\n",
      "50% of the ticket filled the journey conformed\n",
      "your journey is not conformed\n",
      "only 6 tickets booked\n",
      "50% of the ticket filled the journey conformed\n",
      "your journey is not conformed\n",
      "only 7 tickets booked\n",
      "50% of the ticket filled the journey conformed\n",
      "your journey is not conformed\n",
      "only 8 tickets booked\n",
      "50% of the ticket filled the journey conformed\n",
      "your journey is not conformed\n",
      "only 9 tickets booked\n",
      "50% of the ticket filled the journey conformed\n",
      "your journey is not conformed\n",
      "only 10 tickets booked\n",
      "50% of the ticket filled the journey conformed\n"
     ]
    }
   ],
   "source": [
    "TCS=int(input(\"enter total seat capacity:\"))\n",
    "counter=1\n",
    "while counter<=TCS/2:\n",
    "    print(f\"your journey is not conformed\")\n",
    "    print(f\"only {counter} tickets booked\")\n",
    "    counter+=1\n",
    "    print(\"50% of the ticket filled the journey conformed\")"
   ]
  },
  {
   "cell_type": "code",
   "execution_count": 5,
   "id": "06986f87",
   "metadata": {},
   "outputs": [
    {
     "name": "stdout",
     "output_type": "stream",
     "text": [
      "enter limit10\n",
      "0\n",
      "1\n",
      "1\n",
      "1\n",
      "1\n",
      "2\n",
      "1\n",
      "2\n",
      "3\n",
      "2\n",
      "3\n",
      "5\n",
      "3\n",
      "5\n",
      "8\n",
      "5\n",
      "8\n",
      "13\n",
      "8\n",
      "13\n",
      "21\n",
      "13\n",
      "21\n",
      "34\n",
      "21\n",
      "34\n",
      "55\n",
      "34\n",
      "55\n",
      "89\n",
      "55\n",
      "89\n",
      "144\n"
     ]
    }
   ],
   "source": [
    "limit=int(input(\"enter limit\"))\n",
    "count=0\n",
    "a=0\n",
    "b=1\n",
    "while count<=limit:\n",
    "    print(a)\n",
    "    print(b)\n",
    "    c=a+b\n",
    "    print(c)\n",
    "    count+=1\n",
    "    a=b\n",
    "    b=c\n"
   ]
  },
  {
   "cell_type": "code",
   "execution_count": null,
   "id": "84412669",
   "metadata": {},
   "outputs": [],
   "source": [
    "def fibonac (limits)"
   ]
  },
  {
   "cell_type": "code",
   "execution_count": null,
   "id": "51faa707",
   "metadata": {},
   "outputs": [],
   "source": []
  }
 ],
 "metadata": {
  "kernelspec": {
   "display_name": "Python 3 (ipykernel)",
   "language": "python",
   "name": "python3"
  },
  "language_info": {
   "codemirror_mode": {
    "name": "ipython",
    "version": 3
   },
   "file_extension": ".py",
   "mimetype": "text/x-python",
   "name": "python",
   "nbconvert_exporter": "python",
   "pygments_lexer": "ipython3",
   "version": "3.10.8"
  }
 },
 "nbformat": 4,
 "nbformat_minor": 5
}
